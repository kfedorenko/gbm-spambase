{
 "cells": [
  {
   "cell_type": "code",
   "execution_count": 1,
   "metadata": {
    "collapsed": true
   },
   "outputs": [],
   "source": [
    "#импортируем необходимые модули\n",
    "%matplotlib inline\n",
    "import pandas as pd\n",
    "import numpy as np\n",
    "from sklearn.ensemble import GradientBoostingClassifier\n",
    "from sklearn.metrics import roc_curve, roc_auc_score\n",
    "from sklearn.cross_validation import train_test_split\n",
    "from matplotlib import pyplot as plt\n",
    "from sklearn.metrics import roc_curve, roc_auc_score, precision_recall_curve\n",
    "from sklearn import grid_search"
   ]
  },
  {
   "cell_type": "code",
   "execution_count": 2,
   "metadata": {
    "collapsed": true
   },
   "outputs": [],
   "source": [
    "#читаем данные\n",
    "df = pd.DataFrame.from_csv(\"https://archive.ics.uci.edu/ml/machine-learning-databases/spambase/spambase.data\",\n",
    "                           header=None, index_col=None, sep=\",\")"
   ]
  },
  {
   "cell_type": "code",
   "execution_count": 3,
   "metadata": {
    "collapsed": true
   },
   "outputs": [],
   "source": [
    "#добавляем названия столбцов\n",
    "df.columns=[\"word_freq_make\",\"word_freq_address\",\"word_freq_all\",\"word_freq_3d\",\"word_freq_our\",\"word_freq_over\",\n",
    "            \"word_freq_remove\",\"word_freq_internet\",\"word_freq_order\",\"word_freq_mail\",\"word_freq_receive\",\n",
    "            \"word_freq_will\",\"word_freq_people\",\"word_freq_report\",\"word_freq_addresses\",\"word_freq_free\",\n",
    "            \"word_freq_business\",\"word_freq_email\",\"word_freq_you\",\"word_freq_credit\",\"word_freq_your\",\n",
    "            \"word_freq_font\",\"word_freq_000\",\"word_freq_money\",\"word_freq_hp\",\"word_freq_hpl\",\"word_freq_george\",\n",
    "            \"word_freq_650\",\"word_freq_lab\",\"word_freq_labs\",\"word_freq_telnet\",\"word_freq_857\",\"word_freq_data\",\n",
    "            \"word_freq_415\",\"word_freq_85\",\"word_freq_technology\",\"word_freq_1999\",\"word_freq_parts\",\"word_freq_pm\",\n",
    "            \"word_freq_direct\",\"word_freq_cs\",\"word_freq_meeting\",\"word_freq_original\",\"word_freq_project\",\n",
    "            \"word_freq_re\",\"word_freq_edu\",\"word_freq_table\",\"word_freq_conference\",\"char_freq_;\",\n",
    "            \"char_freq_(\",\"char_freq_[\",\"char_freq_!\",\"char_freq_$\",\"char_freq_#\",\"capital_run_length_average\",\n",
    "            \"capital_run_length_longest\",\"capital_run_length_total\",\"spam_or_not\"]"
   ]
  },
  {
   "cell_type": "code",
   "execution_count": 4,
   "metadata": {
    "collapsed": false
   },
   "outputs": [
    {
     "data": {
      "text/plain": [
       "(4601, 58)"
      ]
     },
     "execution_count": 4,
     "metadata": {},
     "output_type": "execute_result"
    }
   ],
   "source": [
    "#наблюдений - 4601, независимых переменных - 57\n",
    "df.shape"
   ]
  },
  {
   "cell_type": "code",
   "execution_count": 5,
   "metadata": {
    "collapsed": true
   },
   "outputs": [],
   "source": [
    "#делим данные на train и test\n",
    "df_train, df_test = train_test_split(df, train_size=0.75)"
   ]
  },
  {
   "cell_type": "code",
   "execution_count": 6,
   "metadata": {
    "collapsed": true
   },
   "outputs": [],
   "source": [
    "predictors = df.columns[:57]"
   ]
  },
  {
   "cell_type": "code",
   "execution_count": 7,
   "metadata": {
    "collapsed": false
   },
   "outputs": [
    {
     "data": {
      "text/plain": [
       "GradientBoostingClassifier(init=None, learning_rate=0.1, loss='deviance',\n",
       "              max_depth=7, max_features=None, max_leaf_nodes=None,\n",
       "              min_samples_leaf=25, min_samples_split=50,\n",
       "              min_weight_fraction_leaf=0.0, n_estimators=50,\n",
       "              random_state=None, subsample=0.99, verbose=0,\n",
       "              warm_start=False)"
      ]
     },
     "execution_count": 7,
     "metadata": {},
     "output_type": "execute_result"
    }
   ],
   "source": [
    "# строим классификатор\n",
    "gbc = GradientBoostingClassifier(loss='deviance', learning_rate=0.1, n_estimators=50, subsample=0.99, \n",
    "                            min_samples_split=50, min_samples_leaf=25, \n",
    "                              max_depth=7, init=None, random_state=None, max_features=None,\n",
    "                              verbose=0, max_leaf_nodes=None, warm_start=False )\n",
    "gbc.fit(df_train[predictors], df_train['spam_or_not'])"
   ]
  },
  {
   "cell_type": "code",
   "execution_count": 10,
   "metadata": {
    "collapsed": false
   },
   "outputs": [
    {
     "name": "stdout",
     "output_type": "stream",
     "text": [
      "0.996691079258\n",
      "0.982460873407\n"
     ]
    }
   ],
   "source": [
    "#считаем оценки качества классификатора\n",
    "train_prediction = gbc.predict_proba(df_train[predictors])\n",
    "train_auc_val = roc_auc_score(list(df_train['spam_or_not']), list( train_prediction[:,1]))\n",
    "print (train_auc_val)\n",
    "test_prediction = gbc.predict_proba(df_test[predictors])\n",
    "test_auc_val = roc_auc_score(list(df_test['spam_or_not']), list( test_prediction[:,1]))\n",
    "print(test_auc_val)"
   ]
  },
  {
   "cell_type": "code",
   "execution_count": 34,
   "metadata": {
    "collapsed": false
   },
   "outputs": [
    {
     "data": {
      "image/png": "[encoded data removed]",
      "text/plain": [
       "<matplotlib.figure.Figure at 0x5753fd0>"
      ]
     },
     "metadata": {},
     "output_type": "display_data"
    }
   ],
   "source": [
    "#строим ROC-кривую\n",
    "fpr, tpr, thresholds = roc_curve(df_test['spam_or_not'], test_prediction[:,1] )\n",
    "plt.figure()\n",
    "plt.style.use('ggplot')\n",
    "plt.plot(fpr, tpr, label='ROC curve (area = %0.2f)' % test_auc_val)\n",
    "plt.plot([-0.01, 1], [0, 1], 'k--')\n",
    "plt.xlim([-0.01, 1.0])\n",
    "plt.ylim([0.0, 1.05])\n",
    "plt.xlabel('False Positive Rate')\n",
    "plt.ylabel('True Positive Rate')\n",
    "plt.title('Receiver operating characteristic')\n",
    "plt.legend(loc=\"lower right\")\n",
    "plt.show()"
   ]
  },
  {
   "cell_type": "code",
   "execution_count": 17,
   "metadata": {
    "collapsed": false
   },
   "outputs": [
    {
     "data": {
      "text/plain": [
       "GridSearchCV(cv=None, error_score='raise',\n",
       "       estimator=GradientBoostingClassifier(init=None, learning_rate=0.1, loss='deviance',\n",
       "              max_depth=3, max_features=None, max_leaf_nodes=None,\n",
       "              min_samples_leaf=1, min_samples_split=2,\n",
       "              min_weight_fraction_leaf=0.0, n_estimators=100,\n",
       "              random_state=None, subsample=1.0, verbose=0,\n",
       "              warm_start=False),\n",
       "       fit_params={}, iid=True, loss_func=None, n_jobs=1,\n",
       "       param_grid={'n_estimators': [50, 100], 'loss': ['deviance'], 'min_samples_split': [50, 100], 'max_depth': [3, 5], 'min_samples_leaf': [25, 50]},\n",
       "       pre_dispatch='2*n_jobs', refit=True, score_func=None, scoring=None,\n",
       "       verbose=False)"
      ]
     },
     "execution_count": 17,
     "metadata": {},
     "output_type": "execute_result"
    }
   ],
   "source": [
    "#подбор параметров c grid_search\n",
    "gbc = GradientBoostingClassifier()\n",
    "parameters = {'loss':['deviance'], 'n_estimators':[ 50, 100], 'min_samples_split' : [50, 100], \n",
    "              'min_samples_leaf' : [25, 50], 'max_depth' : [3, 5]}\n",
    "clf = grid_search.GridSearchCV(gbc, parameters, verbose = False)\n",
    "clf.fit(df_train[predictors], df_train['spam_or_not'])"
   ]
  },
  {
   "cell_type": "code",
   "execution_count": 18,
   "metadata": {
    "collapsed": false,
    "scrolled": true
   },
   "outputs": [
    {
     "data": {
      "text/plain": [
       "{'loss': 'deviance',\n",
       " 'max_depth': 5,\n",
       " 'min_samples_leaf': 50,\n",
       " 'min_samples_split': 50,\n",
       " 'n_estimators': 100}"
      ]
     },
     "execution_count": 18,
     "metadata": {},
     "output_type": "execute_result"
    }
   ],
   "source": [
    "clf.best_params_ "
   ]
  },
  {
   "cell_type": "code",
   "execution_count": 19,
   "metadata": {
    "collapsed": true
   },
   "outputs": [],
   "source": [
    "clf_best = clf.best_estimator_"
   ]
  },
  {
   "cell_type": "code",
   "execution_count": 20,
   "metadata": {
    "collapsed": false
   },
   "outputs": [
    {
     "name": "stdout",
     "output_type": "stream",
     "text": [
      "0.996535895259\n",
      "0.985403951425\n"
     ]
    }
   ],
   "source": [
    "train_prediction = clf_best.predict_proba(df_train[predictors])\n",
    "train_auc_val = roc_auc_score(list(df_train['spam_or_not']), list( train_prediction[:,1]))\n",
    "print (train_auc_val)\n",
    "test_prediction = clf_best.predict_proba(df_test[predictors])\n",
    "test_auc_val = roc_auc_score(list(df_test['spam_or_not']), list( test_prediction[:,1]))\n",
    "print(test_auc_val)"
   ]
  }
 ],
 "metadata": {
  "kernelspec": {
   "display_name": "Python 2",
   "language": "python",
   "name": "python2"
  },
  "language_info": {
   "codemirror_mode": {
    "name": "ipython",
    "version": 2
   },
   "file_extension": ".py",
   "mimetype": "text/x-python",
   "name": "python",
   "nbconvert_exporter": "python",
   "pygments_lexer": "ipython2",
   "version": "2.7.3"
  }
 },
 "nbformat": 4,
 "nbformat_minor": 0
}
